{
 "cells": [
  {
   "cell_type": "code",
   "execution_count": 1,
   "metadata": {},
   "outputs": [],
   "source": [
    "import binascii\n",
    "import os\n",
    "import argparse\n",
    "import datetime"
   ]
  },
  {
   "cell_type": "code",
   "execution_count": 2,
   "metadata": {},
   "outputs": [],
   "source": [
    "def cal_xor(datpath):\n",
    "    fh = open(r'test.jpg','rb')\n",
    "    a = fh.read()\n",
    "    fh.close()\n",
    "    hexstr = binascii.b2a_hex(a)\n",
    "    jpg = hexstr[0:2].decode()\n",
    "    \n",
    "    fh = open(datpath,'rb')\n",
    "    a = fh.read()\n",
    "    fh.close()\n",
    "    hexstr = binascii.b2a_hex(a)\n",
    "    dat = hexstr[0:2].decode()\n",
    "    \n",
    "    jpg_16 = int(jpg, 16)\n",
    "    dat_16 = int(dat, 16)\n",
    "    return hex(dat_16^jpg_16)"
   ]
  },
  {
   "cell_type": "code",
   "execution_count": 3,
   "metadata": {},
   "outputs": [],
   "source": [
    "def stamp2date(timeStamp):\n",
    "    dateArray = datetime.datetime.fromtimestamp(timeStamp)\n",
    "    otherStyleTime = dateArray.strftime(\"%Y-%m-%d-%H\")\n",
    "    return(otherStyleTime)"
   ]
  },
  {
   "cell_type": "code",
   "execution_count": 4,
   "metadata": {},
   "outputs": [],
   "source": [
    "def imageDecode(fin,fout,hexnum):\n",
    "    \"\"\"\n",
    "    解码\n",
    "    :param fin: 微信dat图片路径+名称\n",
    "    :param fout: 微信图片恢复路径+名称\n",
    "    :return: 1/0\n",
    "    \"\"\"\n",
    "    # 读取.bat\n",
    "    dat_read = open(fin,\"rb\")\n",
    "    # 图片写入\n",
    "    img_write = open(fout,\"wb\")\n",
    "    # 循环字节\n",
    "    for now in dat_read:\n",
    "        for nowByte in now:\n",
    "            # 转码计算\n",
    "            newByte = nowByte ^ int(hexnum, 16)\n",
    "            # 转码后重新写入\n",
    "            img_write.write(bytes([newByte]))\n",
    "    dat_read.close()\n",
    "    img_write.close()\n",
    "    # pass"
   ]
  },
  {
   "cell_type": "code",
   "execution_count": 13,
   "metadata": {},
   "outputs": [],
   "source": [
    "class wechat():\n",
    "    '''\n",
    "    一个wechat类代表着一个电脑的wechat图片存放位置的图片管理\n",
    "    :para path是这个wechat照片的存放点，需要手动设置\n",
    "    :para time是需要提取的年月的日期\n",
    "    '''\n",
    "    def __init__(self, path=\"D:\\\\Wechat\\\\WeChat_Files\\\\davendw\\\\FileStorage\\\\Image\\\\\", time=\"2019-11\", outf=\"data\\\\\"):\n",
    "        self.wechat_image_path = path+\"\\\\\"+time+\"\\\\\"\n",
    "        self.hexnum = cal_xor(os.path.join(path+\"\\\\\"+time+\"\\\\\", os.listdir(path+\"\\\\\"+time+\"\\\\\")[0]))\n",
    "        self.wechat_recover_path = outf\n",
    "        self.fsinfo = os.listdir(path+\"\\\\\"+time+\"\\\\\")\n",
    "    \n",
    "    def get_img_list(self, num=10):\n",
    "        # 把路径文件夹下的文件以列表呈现\n",
    "        return self.fsinfo[:num]\n",
    "        \n",
    "    def img_decoder(self, img_type=\"jpg\", mode=\"all\"):\n",
    "        # 逐步读取文件\n",
    "        flag = 0\n",
    "        for fn in self.fsinfo:\n",
    "            flag+=1\n",
    "            # 拼接路径：微信图片路径+日期+图片名\n",
    "            fn_date = stamp2date(os.path.getctime(os.path.join(self.wechat_image_path,fn)))\n",
    "            dat_path = os.path.join(self.wechat_image_path,fn)\n",
    "            # 判断目录还是.bat\n",
    "            if not os.path.isdir(dat_path):\n",
    "                print('当前文件：{}+{}'.format(dat_path, fn))\n",
    "                # 转码函数\n",
    "                fout = self.wechat_recover_path + fn_date + \"-\" + fn.replace(\".dat\",\"\",1) + \".\" + img_type\n",
    "                imageDecode(dat_path, fout,self.hexnum)\n",
    "            else:\n",
    "                pass\n",
    "            if mode == \"test\":\n",
    "                if flag>10:\n",
    "                    break"
   ]
  },
  {
   "cell_type": "code",
   "execution_count": 33,
   "metadata": {},
   "outputs": [],
   "source": [
    "if __name__ == '__main__':\n",
    "    in_path= \"D:\\\\Wechat\\\\WeChat Files\\\\davendw\\\\FileStorage\\\\Image\\\\\"\n",
    "    this_time = \"2019-11\"\n",
    "    out_path = \"data\\\\\"\n",
    "    we = wechat(in_path, this_time, out_path)\n",
    "    # we.find_img_list()[:10]\n",
    "    we.img_decoder(img_type=\"jpg\", mode=\"test\")"
   ]
  }
 ],
 "metadata": {
  "kernelspec": {
   "display_name": "Python 3",
   "language": "python",
   "name": "python3"
  },
  "language_info": {
   "codemirror_mode": {
    "name": "ipython",
    "version": 3
   },
   "file_extension": ".py",
   "mimetype": "text/x-python",
   "name": "python",
   "nbconvert_exporter": "python",
   "pygments_lexer": "ipython3",
   "version": "3.7.3"
  }
 },
 "nbformat": 4,
 "nbformat_minor": 4
}
